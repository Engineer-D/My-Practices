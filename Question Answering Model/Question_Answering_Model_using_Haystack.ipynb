{
  "nbformat": 4,
  "nbformat_minor": 0,
  "metadata": {
    "colab": {
      "provenance": [],
      "collapsed_sections": []
    },
    "kernelspec": {
      "name": "python3",
      "display_name": "Python 3"
    },
    "language_info": {
      "name": "python"
    },
    "accelerator": "TPU"
  },
  "cells": [
    {
      "cell_type": "code",
      "execution_count": null,
      "metadata": {
        "colab": {
          "base_uri": "https://localhost:8080/"
        },
        "id": "gsVWstn7dgSY",
        "outputId": "4810c8ee-1d0a-4d1a-a4bf-b10485fd6def"
      },
      "outputs": [
        {
          "output_type": "stream",
          "name": "stdout",
          "text": [
            "Reading package lists... Done\n",
            "Building dependency tree       \n",
            "Reading state information... Done\n",
            "wget is already the newest version (1.19.4-1ubuntu2.2).\n",
            "The following package was automatically installed and is no longer required:\n",
            "  libnvidia-common-460\n",
            "Use 'apt autoremove' to remove it.\n",
            "0 upgraded, 0 newly installed, 0 to remove and 20 not upgraded.\n",
            "--2022-09-21 00:42:50--  https://rajpurkar.github.io/SQuAD-explorer/dataset/train-v2.0.json\n",
            "Resolving rajpurkar.github.io (rajpurkar.github.io)... 185.199.108.153, 185.199.109.153, 185.199.110.153, ...\n",
            "Connecting to rajpurkar.github.io (rajpurkar.github.io)|185.199.108.153|:443... connected.\n",
            "HTTP request sent, awaiting response... 200 OK\n",
            "Length: 42123633 (40M) [application/json]\n",
            "Saving to: ‘train-v2.0.json.1’\n",
            "\n",
            "train-v2.0.json.1   100%[===================>]  40.17M  --.-KB/s    in 0.1s    \n",
            "\n",
            "2022-09-21 00:42:50 (392 MB/s) - ‘train-v2.0.json.1’ saved [42123633/42123633]\n",
            "\n",
            "--2022-09-21 00:42:50--  http://./storage/train-v2.0.json\n",
            "Resolving . (.)... failed: No address associated with hostname.\n",
            "wget: unable to resolve host address ‘.’\n",
            "FINISHED --2022-09-21 00:42:50--\n",
            "Total wall clock time: 0.1s\n",
            "Downloaded: 1 files, 40M in 0.1s (392 MB/s)\n",
            "--2022-09-21 00:42:50--  https://rajpurkar.github.io/SQuAD-explorer/dataset/dev-v2.0.json\n",
            "Resolving rajpurkar.github.io (rajpurkar.github.io)... 185.199.108.153, 185.199.109.153, 185.199.110.153, ...\n",
            "Connecting to rajpurkar.github.io (rajpurkar.github.io)|185.199.108.153|:443... connected.\n",
            "HTTP request sent, awaiting response... 200 OK\n",
            "Length: 4370528 (4.2M) [application/json]\n",
            "Saving to: ‘dev-v2.0.json.1’\n",
            "\n",
            "dev-v2.0.json.1     100%[===================>]   4.17M  --.-KB/s    in 0.01s   \n",
            "\n",
            "2022-09-21 00:42:50 (354 MB/s) - ‘dev-v2.0.json.1’ saved [4370528/4370528]\n",
            "\n",
            "--2022-09-21 00:42:50--  http://dev-v2.0.json/\n",
            "Resolving dev-v2.0.json (dev-v2.0.json)... failed: Name or service not known.\n",
            "wget: unable to resolve host address ‘dev-v2.0.json’\n",
            "FINISHED --2022-09-21 00:42:50--\n",
            "Total wall clock time: 0.04s\n",
            "Downloaded: 1 files, 4.2M in 0.01s (354 MB/s)\n"
          ]
        }
      ],
      "source": [
        "!apt-get install wget\n",
        "!wget https://rajpurkar.github.io/SQuAD-explorer/dataset/train-v2.0.json ./storage/train-v2.0.json\n",
        "!wget https://rajpurkar.github.io/SQuAD-explorer/dataset/dev-v2.0.json dev-v2.0.json"
      ]
    },
    {
      "cell_type": "code",
      "source": [
        "# Make sure you have a GPU running\n",
        "!nvidia-smi"
      ],
      "metadata": {
        "colab": {
          "base_uri": "https://localhost:8080/"
        },
        "id": "q7q56L-9d0Ry",
        "outputId": "388836f0-7bae-485e-b6b4-81653f48d91f"
      },
      "execution_count": null,
      "outputs": [
        {
          "output_type": "stream",
          "name": "stdout",
          "text": [
            "Wed Sep 21 00:42:51 2022       \n",
            "+-----------------------------------------------------------------------------+\n",
            "| NVIDIA-SMI 460.32.03    Driver Version: 460.32.03    CUDA Version: 11.2     |\n",
            "|-------------------------------+----------------------+----------------------+\n",
            "| GPU  Name        Persistence-M| Bus-Id        Disp.A | Volatile Uncorr. ECC |\n",
            "| Fan  Temp  Perf  Pwr:Usage/Cap|         Memory-Usage | GPU-Util  Compute M. |\n",
            "|                               |                      |               MIG M. |\n",
            "|===============================+======================+======================|\n",
            "|   0  Tesla T4            Off  | 00000000:00:04.0 Off |                    0 |\n",
            "| N/A   57C    P8    10W /  70W |      0MiB / 15109MiB |      0%      Default |\n",
            "|                               |                      |                  N/A |\n",
            "+-------------------------------+----------------------+----------------------+\n",
            "                                                                               \n",
            "+-----------------------------------------------------------------------------+\n",
            "| Processes:                                                                  |\n",
            "|  GPU   GI   CI        PID   Type   Process name                  GPU Memory |\n",
            "|        ID   ID                                                   Usage      |\n",
            "|=============================================================================|\n",
            "|  No running processes found                                                 |\n",
            "+-----------------------------------------------------------------------------+\n"
          ]
        }
      ]
    },
    {
      "cell_type": "code",
      "source": [
        "# Install the latest release of Haystack in your own environment\n",
        "#! pip install farm-haystack\n",
        "\n",
        "# Install the latest master of Haystack\n",
        "!pip install --upgrade pip\n",
        "!pip install git+https://github.com/deepset-ai/haystack.git#egg=farm-haystack[colab]"
      ],
      "metadata": {
        "colab": {
          "base_uri": "https://localhost:8080/"
        },
        "id": "JRSbRswMeEga",
        "outputId": "af338127-6c35-498b-f50a-acd7a28a01e5"
      },
      "execution_count": null,
      "outputs": [
        {
          "output_type": "stream",
          "name": "stdout",
          "text": [
            "Looking in indexes: https://pypi.org/simple, https://us-python.pkg.dev/colab-wheels/public/simple/\n",
            "Requirement already satisfied: pip in /usr/local/lib/python3.7/dist-packages (22.2.2)\n",
            "\u001b[33mWARNING: Running pip as the 'root' user can result in broken permissions and conflicting behaviour with the system package manager. It is recommended to use a virtual environment instead: https://pip.pypa.io/warnings/venv\u001b[0m\u001b[33m\n",
            "\u001b[0mLooking in indexes: https://pypi.org/simple, https://us-python.pkg.dev/colab-wheels/public/simple/\n",
            "Collecting farm-haystack[colab]\n",
            "  Cloning https://github.com/deepset-ai/haystack.git to /tmp/pip-install-53vw6m5g/farm-haystack_a0893bb4b5fc422caf9a33d39bf6bde1\n",
            "  Running command git clone --filter=blob:none --quiet https://github.com/deepset-ai/haystack.git /tmp/pip-install-53vw6m5g/farm-haystack_a0893bb4b5fc422caf9a33d39bf6bde1\n",
            "  Resolved https://github.com/deepset-ai/haystack.git to commit 15bb6c2ea21057a1f44bc07084f8b852d7728048\n",
            "  Installing build dependencies ... \u001b[?25l\u001b[?25hdone\n",
            "  Getting requirements to build wheel ... \u001b[?25l\u001b[?25hdone\n",
            "  Preparing metadata (pyproject.toml) ... \u001b[?25l\u001b[?25hdone\n",
            "Requirement already satisfied: quantulum3 in /usr/local/lib/python3.7/dist-packages (from farm-haystack[colab]) (0.7.10)\n",
            "Requirement already satisfied: tika in /usr/local/lib/python3.7/dist-packages (from farm-haystack[colab]) (1.24)\n",
            "Requirement already satisfied: pandas in /usr/local/lib/python3.7/dist-packages (from farm-haystack[colab]) (1.3.5)\n",
            "Requirement already satisfied: mmh3 in /usr/local/lib/python3.7/dist-packages (from farm-haystack[colab]) (3.0.0)\n",
            "Requirement already satisfied: sentence-transformers>=2.2.0 in /usr/local/lib/python3.7/dist-packages (from farm-haystack[colab]) (2.2.2)\n",
            "Requirement already satisfied: seqeval in /usr/local/lib/python3.7/dist-packages (from farm-haystack[colab]) (1.2.2)\n",
            "Requirement already satisfied: python-docx in /usr/local/lib/python3.7/dist-packages (from farm-haystack[colab]) (0.8.11)\n",
            "Requirement already satisfied: importlib-metadata in /usr/local/lib/python3.7/dist-packages (from farm-haystack[colab]) (4.12.0)\n",
            "Requirement already satisfied: torch<1.13,>1.9 in /usr/local/lib/python3.7/dist-packages (from farm-haystack[colab]) (1.12.1+cu113)\n",
            "Requirement already satisfied: transformers==4.21.2 in /usr/local/lib/python3.7/dist-packages (from farm-haystack[colab]) (4.21.2)\n",
            "Requirement already satisfied: scipy>=1.3.2 in /usr/local/lib/python3.7/dist-packages (from farm-haystack[colab]) (1.7.3)\n",
            "Requirement already satisfied: azure-ai-formrecognizer>=3.2.0b2 in /usr/local/lib/python3.7/dist-packages (from farm-haystack[colab]) (3.2.0)\n",
            "Requirement already satisfied: tqdm in /usr/local/lib/python3.7/dist-packages (from farm-haystack[colab]) (4.64.1)\n",
            "Requirement already satisfied: networkx in /usr/local/lib/python3.7/dist-packages (from farm-haystack[colab]) (2.6.3)\n",
            "Requirement already satisfied: rapidfuzz<2.8.0,>=2.0.15 in /usr/local/lib/python3.7/dist-packages (from farm-haystack[colab]) (2.7.0)\n",
            "Requirement already satisfied: elastic-apm in /usr/local/lib/python3.7/dist-packages (from farm-haystack[colab]) (6.12.0)\n",
            "Requirement already satisfied: langdetect in /usr/local/lib/python3.7/dist-packages (from farm-haystack[colab]) (1.0.9)\n",
            "Requirement already satisfied: scikit-learn>=1.0.0 in /usr/local/lib/python3.7/dist-packages (from farm-haystack[colab]) (1.0.2)\n",
            "Requirement already satisfied: requests in /usr/local/lib/python3.7/dist-packages (from farm-haystack[colab]) (2.28.1)\n",
            "Requirement already satisfied: nltk in /usr/local/lib/python3.7/dist-packages (from farm-haystack[colab]) (3.7)\n",
            "Requirement already satisfied: pydantic in /usr/local/lib/python3.7/dist-packages (from farm-haystack[colab]) (1.9.2)\n",
            "Requirement already satisfied: dill in /usr/local/lib/python3.7/dist-packages (from farm-haystack[colab]) (0.3.5.1)\n",
            "Requirement already satisfied: mlflow in /usr/local/lib/python3.7/dist-packages (from farm-haystack[colab]) (1.29.0)\n",
            "Requirement already satisfied: jsonschema in /usr/local/lib/python3.7/dist-packages (from farm-haystack[colab]) (4.3.3)\n",
            "Requirement already satisfied: elasticsearch<7.11,>=7.7 in /usr/local/lib/python3.7/dist-packages (from farm-haystack[colab]) (7.10.1)\n",
            "Requirement already satisfied: more-itertools in /usr/local/lib/python3.7/dist-packages (from farm-haystack[colab]) (8.14.0)\n",
            "Requirement already satisfied: huggingface-hub>=0.5.0 in /usr/local/lib/python3.7/dist-packages (from farm-haystack[colab]) (0.9.1)\n",
            "Requirement already satisfied: posthog in /usr/local/lib/python3.7/dist-packages (from farm-haystack[colab]) (2.1.2)\n",
            "Requirement already satisfied: grpcio==1.47.0 in /usr/local/lib/python3.7/dist-packages (from farm-haystack[colab]) (1.47.0)\n",
            "Requirement already satisfied: six>=1.5.2 in /usr/local/lib/python3.7/dist-packages (from grpcio==1.47.0->farm-haystack[colab]) (1.15.0)\n",
            "Requirement already satisfied: filelock in /usr/local/lib/python3.7/dist-packages (from transformers==4.21.2->farm-haystack[colab]) (3.8.0)\n",
            "Requirement already satisfied: tokenizers!=0.11.3,<0.13,>=0.11.1 in /usr/local/lib/python3.7/dist-packages (from transformers==4.21.2->farm-haystack[colab]) (0.12.1)\n",
            "Requirement already satisfied: pyyaml>=5.1 in /usr/local/lib/python3.7/dist-packages (from transformers==4.21.2->farm-haystack[colab]) (6.0)\n",
            "Requirement already satisfied: numpy>=1.17 in /usr/local/lib/python3.7/dist-packages (from transformers==4.21.2->farm-haystack[colab]) (1.21.6)\n",
            "Requirement already satisfied: regex!=2019.12.17 in /usr/local/lib/python3.7/dist-packages (from transformers==4.21.2->farm-haystack[colab]) (2022.6.2)\n",
            "Requirement already satisfied: packaging>=20.0 in /usr/local/lib/python3.7/dist-packages (from transformers==4.21.2->farm-haystack[colab]) (21.3)\n",
            "Requirement already satisfied: azure-common~=1.1 in /usr/local/lib/python3.7/dist-packages (from azure-ai-formrecognizer>=3.2.0b2->farm-haystack[colab]) (1.1.28)\n",
            "Requirement already satisfied: azure-core<2.0.0,>=1.23.0 in /usr/local/lib/python3.7/dist-packages (from azure-ai-formrecognizer>=3.2.0b2->farm-haystack[colab]) (1.25.1)\n",
            "Requirement already satisfied: typing-extensions>=4.0.1 in /usr/local/lib/python3.7/dist-packages (from azure-ai-formrecognizer>=3.2.0b2->farm-haystack[colab]) (4.1.1)\n",
            "Requirement already satisfied: msrest>=0.6.21 in /usr/local/lib/python3.7/dist-packages (from azure-ai-formrecognizer>=3.2.0b2->farm-haystack[colab]) (0.7.1)\n",
            "Requirement already satisfied: urllib3<2,>=1.21.1 in /usr/local/lib/python3.7/dist-packages (from elasticsearch<7.11,>=7.7->farm-haystack[colab]) (1.26.12)\n",
            "Requirement already satisfied: certifi in /usr/local/lib/python3.7/dist-packages (from elasticsearch<7.11,>=7.7->farm-haystack[colab]) (2022.6.15)\n",
            "Requirement already satisfied: jarowinkler<2.0.0,>=1.2.0 in /usr/local/lib/python3.7/dist-packages (from rapidfuzz<2.8.0,>=2.0.15->farm-haystack[colab]) (1.2.1)\n",
            "Requirement already satisfied: charset-normalizer<3,>=2 in /usr/local/lib/python3.7/dist-packages (from requests->farm-haystack[colab]) (2.1.1)\n",
            "Requirement already satisfied: idna<4,>=2.5 in /usr/local/lib/python3.7/dist-packages (from requests->farm-haystack[colab]) (2.10)\n",
            "Requirement already satisfied: joblib>=0.11 in /usr/local/lib/python3.7/dist-packages (from scikit-learn>=1.0.0->farm-haystack[colab]) (1.1.0)\n",
            "Requirement already satisfied: threadpoolctl>=2.0.0 in /usr/local/lib/python3.7/dist-packages (from scikit-learn>=1.0.0->farm-haystack[colab]) (3.1.0)\n",
            "Requirement already satisfied: torchvision in /usr/local/lib/python3.7/dist-packages (from sentence-transformers>=2.2.0->farm-haystack[colab]) (0.13.1+cu113)\n",
            "Requirement already satisfied: sentencepiece in /usr/local/lib/python3.7/dist-packages (from sentence-transformers>=2.2.0->farm-haystack[colab]) (0.1.97)\n",
            "Requirement already satisfied: zipp>=0.5 in /usr/local/lib/python3.7/dist-packages (from importlib-metadata->farm-haystack[colab]) (3.8.1)\n",
            "Requirement already satisfied: attrs>=17.4.0 in /usr/local/lib/python3.7/dist-packages (from jsonschema->farm-haystack[colab]) (22.1.0)\n",
            "Requirement already satisfied: pyrsistent!=0.17.0,!=0.17.1,!=0.17.2,>=0.14.0 in /usr/local/lib/python3.7/dist-packages (from jsonschema->farm-haystack[colab]) (0.18.1)\n",
            "Requirement already satisfied: importlib-resources>=1.4.0 in /usr/local/lib/python3.7/dist-packages (from jsonschema->farm-haystack[colab]) (5.9.0)\n",
            "Requirement already satisfied: alembic<2 in /usr/local/lib/python3.7/dist-packages (from mlflow->farm-haystack[colab]) (1.8.1)\n",
            "Requirement already satisfied: sqlalchemy<2,>=1.4.0 in /usr/local/lib/python3.7/dist-packages (from mlflow->farm-haystack[colab]) (1.4.41)\n",
            "Requirement already satisfied: cloudpickle<3 in /usr/local/lib/python3.7/dist-packages (from mlflow->farm-haystack[colab]) (1.5.0)\n",
            "Requirement already satisfied: sqlparse<1,>=0.4.0 in /usr/local/lib/python3.7/dist-packages (from mlflow->farm-haystack[colab]) (0.4.2)\n",
            "Requirement already satisfied: click<9,>=7.0 in /usr/local/lib/python3.7/dist-packages (from mlflow->farm-haystack[colab]) (7.1.2)\n",
            "Requirement already satisfied: docker<7,>=4.0.0 in /usr/local/lib/python3.7/dist-packages (from mlflow->farm-haystack[colab]) (6.0.0)\n",
            "Requirement already satisfied: pytz<2023 in /usr/local/lib/python3.7/dist-packages (from mlflow->farm-haystack[colab]) (2022.2.1)\n",
            "Requirement already satisfied: gitpython<4,>=2.1.0 in /usr/local/lib/python3.7/dist-packages (from mlflow->farm-haystack[colab]) (3.1.27)\n",
            "Requirement already satisfied: entrypoints<1 in /usr/local/lib/python3.7/dist-packages (from mlflow->farm-haystack[colab]) (0.4)\n",
            "Requirement already satisfied: protobuf<5,>=3.12.0 in /usr/local/lib/python3.7/dist-packages (from mlflow->farm-haystack[colab]) (3.17.3)\n",
            "Requirement already satisfied: Flask<3 in /usr/local/lib/python3.7/dist-packages (from mlflow->farm-haystack[colab]) (1.1.4)\n",
            "Requirement already satisfied: databricks-cli<1,>=0.8.7 in /usr/local/lib/python3.7/dist-packages (from mlflow->farm-haystack[colab]) (0.17.3)\n",
            "Requirement already satisfied: prometheus-flask-exporter<1 in /usr/local/lib/python3.7/dist-packages (from mlflow->farm-haystack[colab]) (0.20.3)\n",
            "Requirement already satisfied: querystring-parser<2 in /usr/local/lib/python3.7/dist-packages (from mlflow->farm-haystack[colab]) (1.2.4)\n",
            "Requirement already satisfied: gunicorn<21 in /usr/local/lib/python3.7/dist-packages (from mlflow->farm-haystack[colab]) (20.1.0)\n",
            "Requirement already satisfied: python-dateutil>=2.7.3 in /usr/local/lib/python3.7/dist-packages (from pandas->farm-haystack[colab]) (2.8.2)\n",
            "Requirement already satisfied: backoff<2.0.0,>=1.10.0 in /usr/local/lib/python3.7/dist-packages (from posthog->farm-haystack[colab]) (1.11.1)\n",
            "Requirement already satisfied: monotonic>=1.5 in /usr/local/lib/python3.7/dist-packages (from posthog->farm-haystack[colab]) (1.6)\n",
            "Requirement already satisfied: lxml>=2.3.2 in /usr/local/lib/python3.7/dist-packages (from python-docx->farm-haystack[colab]) (4.9.1)\n",
            "Requirement already satisfied: num2words in /usr/local/lib/python3.7/dist-packages (from quantulum3->farm-haystack[colab]) (0.5.12)\n",
            "Requirement already satisfied: inflect in /usr/local/lib/python3.7/dist-packages (from quantulum3->farm-haystack[colab]) (2.1.0)\n",
            "Requirement already satisfied: setuptools in /usr/local/lib/python3.7/dist-packages (from tika->farm-haystack[colab]) (57.4.0)\n",
            "Requirement already satisfied: Mako in /usr/local/lib/python3.7/dist-packages (from alembic<2->mlflow->farm-haystack[colab]) (1.2.2)\n",
            "Requirement already satisfied: tabulate>=0.7.7 in /usr/local/lib/python3.7/dist-packages (from databricks-cli<1,>=0.8.7->mlflow->farm-haystack[colab]) (0.8.10)\n",
            "Requirement already satisfied: pyjwt>=1.7.0 in /usr/local/lib/python3.7/dist-packages (from databricks-cli<1,>=0.8.7->mlflow->farm-haystack[colab]) (2.5.0)\n",
            "Requirement already satisfied: oauthlib>=3.1.0 in /usr/local/lib/python3.7/dist-packages (from databricks-cli<1,>=0.8.7->mlflow->farm-haystack[colab]) (3.2.0)\n",
            "Requirement already satisfied: websocket-client>=0.32.0 in /usr/local/lib/python3.7/dist-packages (from docker<7,>=4.0.0->mlflow->farm-haystack[colab]) (1.4.1)\n",
            "Requirement already satisfied: Jinja2<3.0,>=2.10.1 in /usr/local/lib/python3.7/dist-packages (from Flask<3->mlflow->farm-haystack[colab]) (2.11.3)\n",
            "Requirement already satisfied: itsdangerous<2.0,>=0.24 in /usr/local/lib/python3.7/dist-packages (from Flask<3->mlflow->farm-haystack[colab]) (1.1.0)\n",
            "Requirement already satisfied: Werkzeug<2.0,>=0.15 in /usr/local/lib/python3.7/dist-packages (from Flask<3->mlflow->farm-haystack[colab]) (1.0.1)\n",
            "Requirement already satisfied: gitdb<5,>=4.0.1 in /usr/local/lib/python3.7/dist-packages (from gitpython<4,>=2.1.0->mlflow->farm-haystack[colab]) (4.0.9)\n",
            "Requirement already satisfied: isodate>=0.6.0 in /usr/local/lib/python3.7/dist-packages (from msrest>=0.6.21->azure-ai-formrecognizer>=3.2.0b2->farm-haystack[colab]) (0.6.1)\n",
            "Requirement already satisfied: requests-oauthlib>=0.5.0 in /usr/local/lib/python3.7/dist-packages (from msrest>=0.6.21->azure-ai-formrecognizer>=3.2.0b2->farm-haystack[colab]) (1.3.1)\n",
            "Requirement already satisfied: pyparsing!=3.0.5,>=2.0.2 in /usr/local/lib/python3.7/dist-packages (from packaging>=20.0->transformers==4.21.2->farm-haystack[colab]) (3.0.9)\n",
            "Requirement already satisfied: prometheus-client in /usr/local/lib/python3.7/dist-packages (from prometheus-flask-exporter<1->mlflow->farm-haystack[colab]) (0.14.1)\n",
            "Requirement already satisfied: greenlet!=0.4.17 in /usr/local/lib/python3.7/dist-packages (from sqlalchemy<2,>=1.4.0->mlflow->farm-haystack[colab]) (1.1.3)\n",
            "Requirement already satisfied: docopt>=0.6.2 in /usr/local/lib/python3.7/dist-packages (from num2words->quantulum3->farm-haystack[colab]) (0.6.2)\n",
            "Requirement already satisfied: pillow!=8.3.*,>=5.3.0 in /usr/local/lib/python3.7/dist-packages (from torchvision->sentence-transformers>=2.2.0->farm-haystack[colab]) (7.1.2)\n",
            "Requirement already satisfied: smmap<6,>=3.0.1 in /usr/local/lib/python3.7/dist-packages (from gitdb<5,>=4.0.1->gitpython<4,>=2.1.0->mlflow->farm-haystack[colab]) (5.0.0)\n",
            "Requirement already satisfied: MarkupSafe>=0.23 in /usr/local/lib/python3.7/dist-packages (from Jinja2<3.0,>=2.10.1->Flask<3->mlflow->farm-haystack[colab]) (2.0.1)\n",
            "\u001b[33mWARNING: Running pip as the 'root' user can result in broken permissions and conflicting behaviour with the system package manager. It is recommended to use a virtual environment instead: https://pip.pypa.io/warnings/venv\u001b[0m\u001b[33m\n",
            "\u001b[0m"
          ]
        }
      ]
    },
    {
      "cell_type": "code",
      "source": [
        "from haystack.nodes import FARMReader"
      ],
      "metadata": {
        "id": "56Co7MQreVeg"
      },
      "execution_count": null,
      "outputs": []
    },
    {
      "cell_type": "code",
      "source": [
        "from haystack.nodes import FARMReader\n",
        "reader = FARMReader(model_name_or_path=\"distilbert-base-uncased-distilled-squad\", use_gpu=True)\n",
        "data_dir = \"./\"\n",
        "# data_dir = \"PATH/TO_YOUR/TRAIN_DATA\""
      ],
      "metadata": {
        "id": "jUb8QLP2eaCN"
      },
      "execution_count": null,
      "outputs": []
    },
    {
      "cell_type": "code",
      "source": [
        "reader.train(data_dir=data_dir, train_filename=\"dev-v2.0.json\", use_gpu=True, n_epochs=4, save_dir=\"my_model\",)"
      ],
      "metadata": {
        "colab": {
          "base_uri": "https://localhost:8080/"
        },
        "id": "A0XVfu3hfj0g",
        "outputId": "7fa3d181-1f84-4a8d-e3f1-a951bebb706b"
      },
      "execution_count": null,
      "outputs": [
        {
          "output_type": "stream",
          "name": "stderr",
          "text": [
            "Preprocessing dataset: 100%|██████████| 3/3 [00:05<00:00,  1.84s/ Dicts]\n",
            "Train epoch 0/3 (Cur. train loss: 1.1587): 100%|██████████| 1360/1360 [05:20<00:00,  4.24it/s]\n",
            "Train epoch 1/3 (Cur. train loss: 0.8126): 100%|██████████| 1360/1360 [05:23<00:00,  4.21it/s]\n",
            "Train epoch 2/3 (Cur. train loss: 0.9583): 100%|██████████| 1360/1360 [05:23<00:00,  4.21it/s]\n",
            "Train epoch 3/3 (Cur. train loss: 0.6755): 100%|██████████| 1360/1360 [05:22<00:00,  4.21it/s]\n"
          ]
        }
      ]
    },
    {
      "cell_type": "code",
      "source": [
        "# Saving the model happens automatically at the end of training into the `save_dir` you specified\n",
        "# However, you could also save a reader manually again via:\n",
        "reader.save(directory=\"/content/drive/MyDrive/my_model\")"
      ],
      "metadata": {
        "id": "VAQcwnLOe1kY"
      },
      "execution_count": null,
      "outputs": []
    },
    {
      "cell_type": "code",
      "source": [
        "# If you want to load it at a later point, just do:\n",
        "new_reader = FARMReader(model_name_or_path=\"/content/drive/MyDrive/my_model\")"
      ],
      "metadata": {
        "id": "p157UR_Ve47d"
      },
      "execution_count": null,
      "outputs": []
    },
    {
      "cell_type": "code",
      "source": [
        "reader_eval_results = new_reader.eval_on_file(\"./\", \"dev-v2.0.json\", device=\"cuda\")"
      ],
      "metadata": {
        "colab": {
          "base_uri": "https://localhost:8080/"
        },
        "id": "_xbwA657e9LD",
        "outputId": "ae0492a0-5a27-45f3-dd68-4019081257a2"
      },
      "execution_count": null,
      "outputs": [
        {
          "output_type": "stream",
          "name": "stderr",
          "text": [
            "WARNING:haystack.nodes.reader.farm:FARMReader.eval_on_file() uses a slightly different evaluation approach than `Pipeline.eval()`:\n",
            "- instead of giving you full control over which labels to use, this method always returns three types of metrics: combined (no suffix), text_answer ('_text_answer' suffix) and no_answer ('_no_answer' suffix) metrics.\n",
            "- instead of comparing predictions with labels on a string level, this method compares them on a token-ID level. This makes it unable to do any string normalization (e.g. normalize whitespaces) beforehand.\n",
            "Hence, results might slightly differ from those of `Pipeline.eval()`\n",
            ".If you are just about starting to evaluate your model consider using `Pipeline.eval()` instead.\n",
            "Preprocessing dataset: 100%|██████████| 3/3 [00:05<00:00,  1.92s/ Dicts]\n",
            "Evaluating:   0%|          | 0/272 [00:00<?, ?it/s]WARNING:haystack.modeling.model.language_model:'segment_ids' is not None, but DistilBert does not use them. They will be ignored.\n",
            "WARNING:haystack.modeling.model.language_model:'segment_ids' is not None, but DistilBert does not use them. They will be ignored.\n",
            "WARNING:haystack.modeling.model.language_model:'segment_ids' is not None, but DistilBert does not use them. They will be ignored.\n",
            "WARNING:haystack.modeling.model.language_model:'segment_ids' is not None, but DistilBert does not use them. They will be ignored.\n",
            "WARNING:haystack.modeling.model.language_model:'segment_ids' is not None, but DistilBert does not use them. They will be ignored.\n",
            "WARNING:haystack.modeling.model.language_model:'segment_ids' is not None, but DistilBert does not use them. They will be ignored.\n",
            "WARNING:haystack.modeling.model.language_model:'segment_ids' is not None, but DistilBert does not use them. They will be ignored.\n",
            "WARNING:haystack.modeling.model.language_model:'segment_ids' is not None, but DistilBert does not use them. They will be ignored.\n",
            "WARNING:haystack.modeling.model.language_model:'segment_ids' is not None, but DistilBert does not use them. They will be ignored.\n",
            "WARNING:haystack.modeling.model.language_model:'segment_ids' is not None, but DistilBert does not use them. They will be ignored.\n",
            "WARNING:haystack.modeling.model.language_model:'segment_ids' is not None, but DistilBert does not use them. They will be ignored.\n",
            "WARNING:haystack.modeling.model.language_model:'segment_ids' is not None, but DistilBert does not use them. They will be ignored.\n",
            "WARNING:haystack.modeling.model.language_model:'segment_ids' is not None, but DistilBert does not use them. They will be ignored.\n",
            "WARNING:haystack.modeling.model.language_model:'segment_ids' is not None, but DistilBert does not use them. They will be ignored.\n",
            "WARNING:haystack.modeling.model.language_model:'segment_ids' is not None, but DistilBert does not use them. They will be ignored.\n",
            "WARNING:haystack.modeling.model.language_model:'segment_ids' is not None, but DistilBert does not use them. They will be ignored.\n",
            "WARNING:haystack.modeling.model.language_model:'segment_ids' is not None, but DistilBert does not use them. They will be ignored.\n",
            "WARNING:haystack.modeling.model.language_model:'segment_ids' is not None, but DistilBert does not use them. They will be ignored.\n",
            "WARNING:haystack.modeling.model.language_model:'segment_ids' is not None, but DistilBert does not use them. They will be ignored.\n",
            "WARNING:haystack.modeling.model.language_model:'segment_ids' is not None, but DistilBert does not use them. They will be ignored.\n",
            "WARNING:haystack.modeling.model.language_model:'segment_ids' is not None, but DistilBert does not use them. They will be ignored.\n",
            "WARNING:haystack.modeling.model.language_model:'segment_ids' is not None, but DistilBert does not use them. They will be ignored.\n",
            "WARNING:haystack.modeling.model.language_model:'segment_ids' is not None, but DistilBert does not use them. They will be ignored.\n",
            "WARNING:haystack.modeling.model.language_model:'segment_ids' is not None, but DistilBert does not use them. They will be ignored.\n",
            "WARNING:haystack.modeling.model.language_model:'segment_ids' is not None, but DistilBert does not use them. They will be ignored.\n",
            "WARNING:haystack.modeling.model.language_model:'segment_ids' is not None, but DistilBert does not use them. They will be ignored.\n",
            "Evaluating:  10%|▉         | 26/272 [00:10<01:36,  2.55it/s]WARNING:haystack.modeling.model.language_model:'segment_ids' is not None, but DistilBert does not use them. They will be ignored.\n",
            "WARNING:haystack.modeling.model.language_model:'segment_ids' is not None, but DistilBert does not use them. They will be ignored.\n",
            "WARNING:haystack.modeling.model.language_model:'segment_ids' is not None, but DistilBert does not use them. They will be ignored.\n",
            "WARNING:haystack.modeling.model.language_model:'segment_ids' is not None, but DistilBert does not use them. They will be ignored.\n",
            "WARNING:haystack.modeling.model.language_model:'segment_ids' is not None, but DistilBert does not use them. They will be ignored.\n",
            "WARNING:haystack.modeling.model.language_model:'segment_ids' is not None, but DistilBert does not use them. They will be ignored.\n",
            "WARNING:haystack.modeling.model.language_model:'segment_ids' is not None, but DistilBert does not use them. They will be ignored.\n",
            "WARNING:haystack.modeling.model.language_model:'segment_ids' is not None, but DistilBert does not use them. They will be ignored.\n",
            "WARNING:haystack.modeling.model.language_model:'segment_ids' is not None, but DistilBert does not use them. They will be ignored.\n",
            "WARNING:haystack.modeling.model.language_model:'segment_ids' is not None, but DistilBert does not use them. They will be ignored.\n",
            "WARNING:haystack.modeling.model.language_model:'segment_ids' is not None, but DistilBert does not use them. They will be ignored.\n",
            "WARNING:haystack.modeling.model.language_model:'segment_ids' is not None, but DistilBert does not use them. They will be ignored.\n",
            "WARNING:haystack.modeling.model.language_model:'segment_ids' is not None, but DistilBert does not use them. They will be ignored.\n",
            "WARNING:haystack.modeling.model.language_model:'segment_ids' is not None, but DistilBert does not use them. They will be ignored.\n",
            "WARNING:haystack.modeling.model.language_model:'segment_ids' is not None, but DistilBert does not use them. They will be ignored.\n",
            "WARNING:haystack.modeling.model.language_model:'segment_ids' is not None, but DistilBert does not use them. They will be ignored.\n",
            "WARNING:haystack.modeling.model.language_model:'segment_ids' is not None, but DistilBert does not use them. They will be ignored.\n",
            "WARNING:haystack.modeling.model.language_model:'segment_ids' is not None, but DistilBert does not use them. They will be ignored.\n",
            "WARNING:haystack.modeling.model.language_model:'segment_ids' is not None, but DistilBert does not use them. They will be ignored.\n",
            "WARNING:haystack.modeling.model.language_model:'segment_ids' is not None, but DistilBert does not use them. They will be ignored.\n",
            "WARNING:haystack.modeling.model.language_model:'segment_ids' is not None, but DistilBert does not use them. They will be ignored.\n",
            "WARNING:haystack.modeling.model.language_model:'segment_ids' is not None, but DistilBert does not use them. They will be ignored.\n",
            "WARNING:haystack.modeling.model.language_model:'segment_ids' is not None, but DistilBert does not use them. They will be ignored.\n",
            "WARNING:haystack.modeling.model.language_model:'segment_ids' is not None, but DistilBert does not use them. They will be ignored.\n",
            "WARNING:haystack.modeling.model.language_model:'segment_ids' is not None, but DistilBert does not use them. They will be ignored.\n",
            "WARNING:haystack.modeling.model.language_model:'segment_ids' is not None, but DistilBert does not use them. They will be ignored.\n",
            "Evaluating:  19%|█▉        | 52/272 [00:20<01:25,  2.57it/s]WARNING:haystack.modeling.model.language_model:'segment_ids' is not None, but DistilBert does not use them. They will be ignored.\n",
            "WARNING:haystack.modeling.model.language_model:'segment_ids' is not None, but DistilBert does not use them. They will be ignored.\n",
            "WARNING:haystack.modeling.model.language_model:'segment_ids' is not None, but DistilBert does not use them. They will be ignored.\n",
            "WARNING:haystack.modeling.model.language_model:'segment_ids' is not None, but DistilBert does not use them. They will be ignored.\n",
            "WARNING:haystack.modeling.model.language_model:'segment_ids' is not None, but DistilBert does not use them. They will be ignored.\n",
            "WARNING:haystack.modeling.model.language_model:'segment_ids' is not None, but DistilBert does not use them. They will be ignored.\n",
            "WARNING:haystack.modeling.model.language_model:'segment_ids' is not None, but DistilBert does not use them. They will be ignored.\n",
            "WARNING:haystack.modeling.model.language_model:'segment_ids' is not None, but DistilBert does not use them. They will be ignored.\n",
            "WARNING:haystack.modeling.model.language_model:'segment_ids' is not None, but DistilBert does not use them. They will be ignored.\n",
            "WARNING:haystack.modeling.model.language_model:'segment_ids' is not None, but DistilBert does not use them. They will be ignored.\n",
            "WARNING:haystack.modeling.model.language_model:'segment_ids' is not None, but DistilBert does not use them. They will be ignored.\n",
            "WARNING:haystack.modeling.model.language_model:'segment_ids' is not None, but DistilBert does not use them. They will be ignored.\n",
            "WARNING:haystack.modeling.model.language_model:'segment_ids' is not None, but DistilBert does not use them. They will be ignored.\n",
            "WARNING:haystack.modeling.model.language_model:'segment_ids' is not None, but DistilBert does not use them. They will be ignored.\n",
            "WARNING:haystack.modeling.model.language_model:'segment_ids' is not None, but DistilBert does not use them. They will be ignored.\n",
            "WARNING:haystack.modeling.model.language_model:'segment_ids' is not None, but DistilBert does not use them. They will be ignored.\n",
            "WARNING:haystack.modeling.model.language_model:'segment_ids' is not None, but DistilBert does not use them. They will be ignored.\n",
            "WARNING:haystack.modeling.model.language_model:'segment_ids' is not None, but DistilBert does not use them. They will be ignored.\n",
            "WARNING:haystack.modeling.model.language_model:'segment_ids' is not None, but DistilBert does not use them. They will be ignored.\n",
            "WARNING:haystack.modeling.model.language_model:'segment_ids' is not None, but DistilBert does not use them. They will be ignored.\n",
            "WARNING:haystack.modeling.model.language_model:'segment_ids' is not None, but DistilBert does not use them. They will be ignored.\n",
            "WARNING:haystack.modeling.model.language_model:'segment_ids' is not None, but DistilBert does not use them. They will be ignored.\n",
            "WARNING:haystack.modeling.model.language_model:'segment_ids' is not None, but DistilBert does not use them. They will be ignored.\n",
            "WARNING:haystack.modeling.model.language_model:'segment_ids' is not None, but DistilBert does not use them. They will be ignored.\n",
            "WARNING:haystack.modeling.model.language_model:'segment_ids' is not None, but DistilBert does not use them. They will be ignored.\n",
            "WARNING:haystack.modeling.model.language_model:'segment_ids' is not None, but DistilBert does not use them. They will be ignored.\n",
            "Evaluating:  29%|██▊       | 78/272 [00:30<01:16,  2.55it/s]WARNING:haystack.modeling.model.language_model:'segment_ids' is not None, but DistilBert does not use them. They will be ignored.\n",
            "WARNING:haystack.modeling.model.language_model:'segment_ids' is not None, but DistilBert does not use them. They will be ignored.\n",
            "WARNING:haystack.modeling.model.language_model:'segment_ids' is not None, but DistilBert does not use them. They will be ignored.\n",
            "WARNING:haystack.modeling.model.language_model:'segment_ids' is not None, but DistilBert does not use them. They will be ignored.\n",
            "WARNING:haystack.modeling.model.language_model:'segment_ids' is not None, but DistilBert does not use them. They will be ignored.\n",
            "WARNING:haystack.modeling.model.language_model:'segment_ids' is not None, but DistilBert does not use them. They will be ignored.\n",
            "WARNING:haystack.modeling.model.language_model:'segment_ids' is not None, but DistilBert does not use them. They will be ignored.\n",
            "WARNING:haystack.modeling.model.language_model:'segment_ids' is not None, but DistilBert does not use them. They will be ignored.\n",
            "WARNING:haystack.modeling.model.language_model:'segment_ids' is not None, but DistilBert does not use them. They will be ignored.\n",
            "WARNING:haystack.modeling.model.language_model:'segment_ids' is not None, but DistilBert does not use them. They will be ignored.\n",
            "WARNING:haystack.modeling.model.language_model:'segment_ids' is not None, but DistilBert does not use them. They will be ignored.\n",
            "WARNING:haystack.modeling.model.language_model:'segment_ids' is not None, but DistilBert does not use them. They will be ignored.\n",
            "WARNING:haystack.modeling.model.language_model:'segment_ids' is not None, but DistilBert does not use them. They will be ignored.\n",
            "WARNING:haystack.modeling.model.language_model:'segment_ids' is not None, but DistilBert does not use them. They will be ignored.\n",
            "WARNING:haystack.modeling.model.language_model:'segment_ids' is not None, but DistilBert does not use them. They will be ignored.\n",
            "WARNING:haystack.modeling.model.language_model:'segment_ids' is not None, but DistilBert does not use them. They will be ignored.\n",
            "WARNING:haystack.modeling.model.language_model:'segment_ids' is not None, but DistilBert does not use them. They will be ignored.\n",
            "WARNING:haystack.modeling.model.language_model:'segment_ids' is not None, but DistilBert does not use them. They will be ignored.\n",
            "WARNING:haystack.modeling.model.language_model:'segment_ids' is not None, but DistilBert does not use them. They will be ignored.\n",
            "WARNING:haystack.modeling.model.language_model:'segment_ids' is not None, but DistilBert does not use them. They will be ignored.\n",
            "WARNING:haystack.modeling.model.language_model:'segment_ids' is not None, but DistilBert does not use them. They will be ignored.\n",
            "WARNING:haystack.modeling.model.language_model:'segment_ids' is not None, but DistilBert does not use them. They will be ignored.\n",
            "WARNING:haystack.modeling.model.language_model:'segment_ids' is not None, but DistilBert does not use them. They will be ignored.\n",
            "WARNING:haystack.modeling.model.language_model:'segment_ids' is not None, but DistilBert does not use them. They will be ignored.\n",
            "WARNING:haystack.modeling.model.language_model:'segment_ids' is not None, but DistilBert does not use them. They will be ignored.\n",
            "WARNING:haystack.modeling.model.language_model:'segment_ids' is not None, but DistilBert does not use them. They will be ignored.\n",
            "Evaluating:  38%|███▊      | 104/272 [00:40<01:05,  2.55it/s]WARNING:haystack.modeling.model.language_model:'segment_ids' is not None, but DistilBert does not use them. They will be ignored.\n",
            "WARNING:haystack.modeling.model.language_model:'segment_ids' is not None, but DistilBert does not use them. They will be ignored.\n",
            "WARNING:haystack.modeling.model.language_model:'segment_ids' is not None, but DistilBert does not use them. They will be ignored.\n",
            "WARNING:haystack.modeling.model.language_model:'segment_ids' is not None, but DistilBert does not use them. They will be ignored.\n",
            "WARNING:haystack.modeling.model.language_model:'segment_ids' is not None, but DistilBert does not use them. They will be ignored.\n",
            "WARNING:haystack.modeling.model.language_model:'segment_ids' is not None, but DistilBert does not use them. They will be ignored.\n",
            "WARNING:haystack.modeling.model.language_model:'segment_ids' is not None, but DistilBert does not use them. They will be ignored.\n",
            "WARNING:haystack.modeling.model.language_model:'segment_ids' is not None, but DistilBert does not use them. They will be ignored.\n",
            "WARNING:haystack.modeling.model.language_model:'segment_ids' is not None, but DistilBert does not use them. They will be ignored.\n",
            "WARNING:haystack.modeling.model.language_model:'segment_ids' is not None, but DistilBert does not use them. They will be ignored.\n",
            "WARNING:haystack.modeling.model.language_model:'segment_ids' is not None, but DistilBert does not use them. They will be ignored.\n",
            "WARNING:haystack.modeling.model.language_model:'segment_ids' is not None, but DistilBert does not use them. They will be ignored.\n",
            "WARNING:haystack.modeling.model.language_model:'segment_ids' is not None, but DistilBert does not use them. They will be ignored.\n",
            "WARNING:haystack.modeling.model.language_model:'segment_ids' is not None, but DistilBert does not use them. They will be ignored.\n",
            "WARNING:haystack.modeling.model.language_model:'segment_ids' is not None, but DistilBert does not use them. They will be ignored.\n",
            "WARNING:haystack.modeling.model.language_model:'segment_ids' is not None, but DistilBert does not use them. They will be ignored.\n",
            "WARNING:haystack.modeling.model.language_model:'segment_ids' is not None, but DistilBert does not use them. They will be ignored.\n",
            "WARNING:haystack.modeling.model.language_model:'segment_ids' is not None, but DistilBert does not use them. They will be ignored.\n",
            "WARNING:haystack.modeling.model.language_model:'segment_ids' is not None, but DistilBert does not use them. They will be ignored.\n",
            "WARNING:haystack.modeling.model.language_model:'segment_ids' is not None, but DistilBert does not use them. They will be ignored.\n",
            "WARNING:haystack.modeling.model.language_model:'segment_ids' is not None, but DistilBert does not use them. They will be ignored.\n",
            "WARNING:haystack.modeling.model.language_model:'segment_ids' is not None, but DistilBert does not use them. They will be ignored.\n",
            "WARNING:haystack.modeling.model.language_model:'segment_ids' is not None, but DistilBert does not use them. They will be ignored.\n",
            "WARNING:haystack.modeling.model.language_model:'segment_ids' is not None, but DistilBert does not use them. They will be ignored.\n",
            "WARNING:haystack.modeling.model.language_model:'segment_ids' is not None, but DistilBert does not use them. They will be ignored.\n",
            "WARNING:haystack.modeling.model.language_model:'segment_ids' is not None, but DistilBert does not use them. They will be ignored.\n",
            "Evaluating:  48%|████▊     | 130/272 [00:50<00:55,  2.56it/s]WARNING:haystack.modeling.model.language_model:'segment_ids' is not None, but DistilBert does not use them. They will be ignored.\n",
            "WARNING:haystack.modeling.model.language_model:'segment_ids' is not None, but DistilBert does not use them. They will be ignored.\n",
            "WARNING:haystack.modeling.model.language_model:'segment_ids' is not None, but DistilBert does not use them. They will be ignored.\n",
            "WARNING:haystack.modeling.model.language_model:'segment_ids' is not None, but DistilBert does not use them. They will be ignored.\n",
            "WARNING:haystack.modeling.model.language_model:'segment_ids' is not None, but DistilBert does not use them. They will be ignored.\n",
            "WARNING:haystack.modeling.model.language_model:'segment_ids' is not None, but DistilBert does not use them. They will be ignored.\n",
            "WARNING:haystack.modeling.model.language_model:'segment_ids' is not None, but DistilBert does not use them. They will be ignored.\n",
            "WARNING:haystack.modeling.model.language_model:'segment_ids' is not None, but DistilBert does not use them. They will be ignored.\n",
            "WARNING:haystack.modeling.model.language_model:'segment_ids' is not None, but DistilBert does not use them. They will be ignored.\n",
            "WARNING:haystack.modeling.model.language_model:'segment_ids' is not None, but DistilBert does not use them. They will be ignored.\n",
            "WARNING:haystack.modeling.model.language_model:'segment_ids' is not None, but DistilBert does not use them. They will be ignored.\n",
            "WARNING:haystack.modeling.model.language_model:'segment_ids' is not None, but DistilBert does not use them. They will be ignored.\n",
            "WARNING:haystack.modeling.model.language_model:'segment_ids' is not None, but DistilBert does not use them. They will be ignored.\n",
            "WARNING:haystack.modeling.model.language_model:'segment_ids' is not None, but DistilBert does not use them. They will be ignored.\n",
            "WARNING:haystack.modeling.model.language_model:'segment_ids' is not None, but DistilBert does not use them. They will be ignored.\n",
            "WARNING:haystack.modeling.model.language_model:'segment_ids' is not None, but DistilBert does not use them. They will be ignored.\n",
            "WARNING:haystack.modeling.model.language_model:'segment_ids' is not None, but DistilBert does not use them. They will be ignored.\n",
            "WARNING:haystack.modeling.model.language_model:'segment_ids' is not None, but DistilBert does not use them. They will be ignored.\n",
            "WARNING:haystack.modeling.model.language_model:'segment_ids' is not None, but DistilBert does not use them. They will be ignored.\n",
            "WARNING:haystack.modeling.model.language_model:'segment_ids' is not None, but DistilBert does not use them. They will be ignored.\n",
            "WARNING:haystack.modeling.model.language_model:'segment_ids' is not None, but DistilBert does not use them. They will be ignored.\n",
            "WARNING:haystack.modeling.model.language_model:'segment_ids' is not None, but DistilBert does not use them. They will be ignored.\n",
            "WARNING:haystack.modeling.model.language_model:'segment_ids' is not None, but DistilBert does not use them. They will be ignored.\n",
            "WARNING:haystack.modeling.model.language_model:'segment_ids' is not None, but DistilBert does not use them. They will be ignored.\n",
            "WARNING:haystack.modeling.model.language_model:'segment_ids' is not None, but DistilBert does not use them. They will be ignored.\n",
            "WARNING:haystack.modeling.model.language_model:'segment_ids' is not None, but DistilBert does not use them. They will be ignored.\n",
            "WARNING:haystack.modeling.model.language_model:'segment_ids' is not None, but DistilBert does not use them. They will be ignored.\n",
            "Evaluating:  58%|█████▊    | 157/272 [01:01<00:44,  2.58it/s]WARNING:haystack.modeling.model.language_model:'segment_ids' is not None, but DistilBert does not use them. They will be ignored.\n",
            "WARNING:haystack.modeling.model.language_model:'segment_ids' is not None, but DistilBert does not use them. They will be ignored.\n",
            "WARNING:haystack.modeling.model.language_model:'segment_ids' is not None, but DistilBert does not use them. They will be ignored.\n",
            "WARNING:haystack.modeling.model.language_model:'segment_ids' is not None, but DistilBert does not use them. They will be ignored.\n",
            "WARNING:haystack.modeling.model.language_model:'segment_ids' is not None, but DistilBert does not use them. They will be ignored.\n",
            "WARNING:haystack.modeling.model.language_model:'segment_ids' is not None, but DistilBert does not use them. They will be ignored.\n",
            "WARNING:haystack.modeling.model.language_model:'segment_ids' is not None, but DistilBert does not use them. They will be ignored.\n",
            "WARNING:haystack.modeling.model.language_model:'segment_ids' is not None, but DistilBert does not use them. They will be ignored.\n",
            "WARNING:haystack.modeling.model.language_model:'segment_ids' is not None, but DistilBert does not use them. They will be ignored.\n",
            "WARNING:haystack.modeling.model.language_model:'segment_ids' is not None, but DistilBert does not use them. They will be ignored.\n",
            "WARNING:haystack.modeling.model.language_model:'segment_ids' is not None, but DistilBert does not use them. They will be ignored.\n",
            "WARNING:haystack.modeling.model.language_model:'segment_ids' is not None, but DistilBert does not use them. They will be ignored.\n",
            "WARNING:haystack.modeling.model.language_model:'segment_ids' is not None, but DistilBert does not use them. They will be ignored.\n",
            "WARNING:haystack.modeling.model.language_model:'segment_ids' is not None, but DistilBert does not use them. They will be ignored.\n",
            "WARNING:haystack.modeling.model.language_model:'segment_ids' is not None, but DistilBert does not use them. They will be ignored.\n",
            "WARNING:haystack.modeling.model.language_model:'segment_ids' is not None, but DistilBert does not use them. They will be ignored.\n",
            "WARNING:haystack.modeling.model.language_model:'segment_ids' is not None, but DistilBert does not use them. They will be ignored.\n",
            "WARNING:haystack.modeling.model.language_model:'segment_ids' is not None, but DistilBert does not use them. They will be ignored.\n",
            "WARNING:haystack.modeling.model.language_model:'segment_ids' is not None, but DistilBert does not use them. They will be ignored.\n",
            "WARNING:haystack.modeling.model.language_model:'segment_ids' is not None, but DistilBert does not use them. They will be ignored.\n",
            "WARNING:haystack.modeling.model.language_model:'segment_ids' is not None, but DistilBert does not use them. They will be ignored.\n",
            "WARNING:haystack.modeling.model.language_model:'segment_ids' is not None, but DistilBert does not use them. They will be ignored.\n",
            "WARNING:haystack.modeling.model.language_model:'segment_ids' is not None, but DistilBert does not use them. They will be ignored.\n",
            "WARNING:haystack.modeling.model.language_model:'segment_ids' is not None, but DistilBert does not use them. They will be ignored.\n",
            "WARNING:haystack.modeling.model.language_model:'segment_ids' is not None, but DistilBert does not use them. They will be ignored.\n",
            "WARNING:haystack.modeling.model.language_model:'segment_ids' is not None, but DistilBert does not use them. They will be ignored.\n",
            "WARNING:haystack.modeling.model.language_model:'segment_ids' is not None, but DistilBert does not use them. They will be ignored.\n",
            "Evaluating:  68%|██████▊   | 184/272 [01:11<00:33,  2.59it/s]WARNING:haystack.modeling.model.language_model:'segment_ids' is not None, but DistilBert does not use them. They will be ignored.\n",
            "WARNING:haystack.modeling.model.language_model:'segment_ids' is not None, but DistilBert does not use them. They will be ignored.\n",
            "WARNING:haystack.modeling.model.language_model:'segment_ids' is not None, but DistilBert does not use them. They will be ignored.\n",
            "WARNING:haystack.modeling.model.language_model:'segment_ids' is not None, but DistilBert does not use them. They will be ignored.\n",
            "WARNING:haystack.modeling.model.language_model:'segment_ids' is not None, but DistilBert does not use them. They will be ignored.\n",
            "WARNING:haystack.modeling.model.language_model:'segment_ids' is not None, but DistilBert does not use them. They will be ignored.\n",
            "WARNING:haystack.modeling.model.language_model:'segment_ids' is not None, but DistilBert does not use them. They will be ignored.\n",
            "WARNING:haystack.modeling.model.language_model:'segment_ids' is not None, but DistilBert does not use them. They will be ignored.\n",
            "WARNING:haystack.modeling.model.language_model:'segment_ids' is not None, but DistilBert does not use them. They will be ignored.\n",
            "WARNING:haystack.modeling.model.language_model:'segment_ids' is not None, but DistilBert does not use them. They will be ignored.\n",
            "WARNING:haystack.modeling.model.language_model:'segment_ids' is not None, but DistilBert does not use them. They will be ignored.\n",
            "WARNING:haystack.modeling.model.language_model:'segment_ids' is not None, but DistilBert does not use them. They will be ignored.\n",
            "WARNING:haystack.modeling.model.language_model:'segment_ids' is not None, but DistilBert does not use them. They will be ignored.\n",
            "WARNING:haystack.modeling.model.language_model:'segment_ids' is not None, but DistilBert does not use them. They will be ignored.\n",
            "WARNING:haystack.modeling.model.language_model:'segment_ids' is not None, but DistilBert does not use them. They will be ignored.\n",
            "WARNING:haystack.modeling.model.language_model:'segment_ids' is not None, but DistilBert does not use them. They will be ignored.\n",
            "WARNING:haystack.modeling.model.language_model:'segment_ids' is not None, but DistilBert does not use them. They will be ignored.\n",
            "WARNING:haystack.modeling.model.language_model:'segment_ids' is not None, but DistilBert does not use them. They will be ignored.\n",
            "WARNING:haystack.modeling.model.language_model:'segment_ids' is not None, but DistilBert does not use them. They will be ignored.\n",
            "WARNING:haystack.modeling.model.language_model:'segment_ids' is not None, but DistilBert does not use them. They will be ignored.\n",
            "WARNING:haystack.modeling.model.language_model:'segment_ids' is not None, but DistilBert does not use them. They will be ignored.\n",
            "WARNING:haystack.modeling.model.language_model:'segment_ids' is not None, but DistilBert does not use them. They will be ignored.\n",
            "WARNING:haystack.modeling.model.language_model:'segment_ids' is not None, but DistilBert does not use them. They will be ignored.\n",
            "WARNING:haystack.modeling.model.language_model:'segment_ids' is not None, but DistilBert does not use them. They will be ignored.\n",
            "WARNING:haystack.modeling.model.language_model:'segment_ids' is not None, but DistilBert does not use them. They will be ignored.\n",
            "WARNING:haystack.modeling.model.language_model:'segment_ids' is not None, but DistilBert does not use them. They will be ignored.\n",
            "WARNING:haystack.modeling.model.language_model:'segment_ids' is not None, but DistilBert does not use them. They will be ignored.\n",
            "Evaluating:  78%|███████▊  | 211/272 [01:21<00:23,  2.60it/s]WARNING:haystack.modeling.model.language_model:'segment_ids' is not None, but DistilBert does not use them. They will be ignored.\n",
            "WARNING:haystack.modeling.model.language_model:'segment_ids' is not None, but DistilBert does not use them. They will be ignored.\n",
            "WARNING:haystack.modeling.model.language_model:'segment_ids' is not None, but DistilBert does not use them. They will be ignored.\n",
            "WARNING:haystack.modeling.model.language_model:'segment_ids' is not None, but DistilBert does not use them. They will be ignored.\n",
            "WARNING:haystack.modeling.model.language_model:'segment_ids' is not None, but DistilBert does not use them. They will be ignored.\n",
            "WARNING:haystack.modeling.model.language_model:'segment_ids' is not None, but DistilBert does not use them. They will be ignored.\n",
            "WARNING:haystack.modeling.model.language_model:'segment_ids' is not None, but DistilBert does not use them. They will be ignored.\n",
            "WARNING:haystack.modeling.model.language_model:'segment_ids' is not None, but DistilBert does not use them. They will be ignored.\n",
            "WARNING:haystack.modeling.model.language_model:'segment_ids' is not None, but DistilBert does not use them. They will be ignored.\n",
            "WARNING:haystack.modeling.model.language_model:'segment_ids' is not None, but DistilBert does not use them. They will be ignored.\n",
            "WARNING:haystack.modeling.model.language_model:'segment_ids' is not None, but DistilBert does not use them. They will be ignored.\n",
            "WARNING:haystack.modeling.model.language_model:'segment_ids' is not None, but DistilBert does not use them. They will be ignored.\n",
            "WARNING:haystack.modeling.model.language_model:'segment_ids' is not None, but DistilBert does not use them. They will be ignored.\n",
            "WARNING:haystack.modeling.model.language_model:'segment_ids' is not None, but DistilBert does not use them. They will be ignored.\n",
            "WARNING:haystack.modeling.model.language_model:'segment_ids' is not None, but DistilBert does not use them. They will be ignored.\n",
            "WARNING:haystack.modeling.model.language_model:'segment_ids' is not None, but DistilBert does not use them. They will be ignored.\n",
            "WARNING:haystack.modeling.model.language_model:'segment_ids' is not None, but DistilBert does not use them. They will be ignored.\n",
            "WARNING:haystack.modeling.model.language_model:'segment_ids' is not None, but DistilBert does not use them. They will be ignored.\n",
            "WARNING:haystack.modeling.model.language_model:'segment_ids' is not None, but DistilBert does not use them. They will be ignored.\n",
            "WARNING:haystack.modeling.model.language_model:'segment_ids' is not None, but DistilBert does not use them. They will be ignored.\n",
            "WARNING:haystack.modeling.model.language_model:'segment_ids' is not None, but DistilBert does not use them. They will be ignored.\n",
            "WARNING:haystack.modeling.model.language_model:'segment_ids' is not None, but DistilBert does not use them. They will be ignored.\n",
            "WARNING:haystack.modeling.model.language_model:'segment_ids' is not None, but DistilBert does not use them. They will be ignored.\n",
            "WARNING:haystack.modeling.model.language_model:'segment_ids' is not None, but DistilBert does not use them. They will be ignored.\n",
            "WARNING:haystack.modeling.model.language_model:'segment_ids' is not None, but DistilBert does not use them. They will be ignored.\n",
            "WARNING:haystack.modeling.model.language_model:'segment_ids' is not None, but DistilBert does not use them. They will be ignored.\n",
            "WARNING:haystack.modeling.model.language_model:'segment_ids' is not None, but DistilBert does not use them. They will be ignored.\n",
            "Evaluating:  88%|████████▊ | 238/272 [01:32<00:13,  2.61it/s]WARNING:haystack.modeling.model.language_model:'segment_ids' is not None, but DistilBert does not use them. They will be ignored.\n",
            "WARNING:haystack.modeling.model.language_model:'segment_ids' is not None, but DistilBert does not use them. They will be ignored.\n",
            "WARNING:haystack.modeling.model.language_model:'segment_ids' is not None, but DistilBert does not use them. They will be ignored.\n",
            "WARNING:haystack.modeling.model.language_model:'segment_ids' is not None, but DistilBert does not use them. They will be ignored.\n",
            "WARNING:haystack.modeling.model.language_model:'segment_ids' is not None, but DistilBert does not use them. They will be ignored.\n",
            "WARNING:haystack.modeling.model.language_model:'segment_ids' is not None, but DistilBert does not use them. They will be ignored.\n",
            "WARNING:haystack.modeling.model.language_model:'segment_ids' is not None, but DistilBert does not use them. They will be ignored.\n",
            "WARNING:haystack.modeling.model.language_model:'segment_ids' is not None, but DistilBert does not use them. They will be ignored.\n",
            "WARNING:haystack.modeling.model.language_model:'segment_ids' is not None, but DistilBert does not use them. They will be ignored.\n",
            "WARNING:haystack.modeling.model.language_model:'segment_ids' is not None, but DistilBert does not use them. They will be ignored.\n",
            "WARNING:haystack.modeling.model.language_model:'segment_ids' is not None, but DistilBert does not use them. They will be ignored.\n",
            "WARNING:haystack.modeling.model.language_model:'segment_ids' is not None, but DistilBert does not use them. They will be ignored.\n",
            "WARNING:haystack.modeling.model.language_model:'segment_ids' is not None, but DistilBert does not use them. They will be ignored.\n",
            "WARNING:haystack.modeling.model.language_model:'segment_ids' is not None, but DistilBert does not use them. They will be ignored.\n",
            "WARNING:haystack.modeling.model.language_model:'segment_ids' is not None, but DistilBert does not use them. They will be ignored.\n",
            "WARNING:haystack.modeling.model.language_model:'segment_ids' is not None, but DistilBert does not use them. They will be ignored.\n",
            "WARNING:haystack.modeling.model.language_model:'segment_ids' is not None, but DistilBert does not use them. They will be ignored.\n",
            "WARNING:haystack.modeling.model.language_model:'segment_ids' is not None, but DistilBert does not use them. They will be ignored.\n",
            "WARNING:haystack.modeling.model.language_model:'segment_ids' is not None, but DistilBert does not use them. They will be ignored.\n",
            "WARNING:haystack.modeling.model.language_model:'segment_ids' is not None, but DistilBert does not use them. They will be ignored.\n",
            "WARNING:haystack.modeling.model.language_model:'segment_ids' is not None, but DistilBert does not use them. They will be ignored.\n",
            "WARNING:haystack.modeling.model.language_model:'segment_ids' is not None, but DistilBert does not use them. They will be ignored.\n",
            "WARNING:haystack.modeling.model.language_model:'segment_ids' is not None, but DistilBert does not use them. They will be ignored.\n",
            "WARNING:haystack.modeling.model.language_model:'segment_ids' is not None, but DistilBert does not use them. They will be ignored.\n",
            "WARNING:haystack.modeling.model.language_model:'segment_ids' is not None, but DistilBert does not use them. They will be ignored.\n",
            "WARNING:haystack.modeling.model.language_model:'segment_ids' is not None, but DistilBert does not use them. They will be ignored.\n",
            "WARNING:haystack.modeling.model.language_model:'segment_ids' is not None, but DistilBert does not use them. They will be ignored.\n",
            "Evaluating:  97%|█████████▋| 265/272 [01:42<00:02,  2.61it/s]WARNING:haystack.modeling.model.language_model:'segment_ids' is not None, but DistilBert does not use them. They will be ignored.\n",
            "WARNING:haystack.modeling.model.language_model:'segment_ids' is not None, but DistilBert does not use them. They will be ignored.\n",
            "WARNING:haystack.modeling.model.language_model:'segment_ids' is not None, but DistilBert does not use them. They will be ignored.\n",
            "WARNING:haystack.modeling.model.language_model:'segment_ids' is not None, but DistilBert does not use them. They will be ignored.\n",
            "WARNING:haystack.modeling.model.language_model:'segment_ids' is not None, but DistilBert does not use them. They will be ignored.\n",
            "WARNING:haystack.modeling.model.language_model:'segment_ids' is not None, but DistilBert does not use them. They will be ignored.\n",
            "WARNING:haystack.modeling.model.language_model:'segment_ids' is not None, but DistilBert does not use them. They will be ignored.\n",
            "Evaluating: 100%|██████████| 272/272 [01:45<00:00,  2.59it/s]\n"
          ]
        }
      ]
    },
    {
      "cell_type": "code",
      "source": [
        "reader_eval_results"
      ],
      "metadata": {
        "colab": {
          "base_uri": "https://localhost:8080/"
        },
        "id": "IX6sLs8XfFzq",
        "outputId": "df4feb99-6dd7-4bca-ec38-e274f6457e19"
      },
      "execution_count": null,
      "outputs": [
        {
          "output_type": "execute_result",
          "data": {
            "text/plain": [
              "{'EM': 88.84247171453438,\n",
              " 'f1': 89.45614522413196,\n",
              " 'top_n_accuracy': 99.84334203655352,\n",
              " 'top_n': 4,\n",
              " 'EM_text_answer': 82.67984998295262,\n",
              " 'f1_text_answer': 83.88188009295536,\n",
              " 'top_n_accuracy_text_answer': 99.69314694851687,\n",
              " 'top_n_EM_text_answer': 97.23832253665189,\n",
              " 'top_n_f1_text_answer': 99.1530880418712,\n",
              " 'Total_text_answer': 2933,\n",
              " 'EM_no_answer': 95.27027027027027,\n",
              " 'f1_no_answer': 95.27027027027027,\n",
              " 'top_n_accuracy_no_answer': 100.0,\n",
              " 'Total_no_answer': 2812}"
            ]
          },
          "metadata": {},
          "execution_count": 28
        }
      ]
    },
    {
      "cell_type": "code",
      "source": [
        "context = \"Hi My name is Oluwadamifogore, some call me Engineer-D because I am a badass engineer, if you find it difficult to pronounce my name just call me David\""
      ],
      "metadata": {
        "id": "YWaDP6XefROf"
      },
      "execution_count": null,
      "outputs": []
    },
    {
      "cell_type": "code",
      "source": [
        "new_reader.predict_on_texts(\"What is your name?\",[context])"
      ],
      "metadata": {
        "colab": {
          "base_uri": "https://localhost:8080/"
        },
        "id": "B9GOJKcRh_SL",
        "outputId": "9ef98026-87dc-4e1b-cd61-f5cd68d4a9bd"
      },
      "execution_count": null,
      "outputs": [
        {
          "output_type": "stream",
          "name": "stderr",
          "text": [
            "Inferencing Samples:   0%|          | 0/1 [00:00<?, ? Batches/s]WARNING:haystack.modeling.model.language_model:'segment_ids' is not None, but DistilBert does not use them. They will be ignored.\n",
            "Inferencing Samples: 100%|██████████| 1/1 [00:00<00:00, 37.06 Batches/s]\n"
          ]
        },
        {
          "output_type": "execute_result",
          "data": {
            "text/plain": [
              "{'query': 'What is your name?',\n",
              " 'no_ans_gap': 3.1716909408569336,\n",
              " 'answers': [<Answer {'answer': 'Oluwadamifogore', 'type': 'extractive', 'score': 0.6008038520812988, 'context': 'Hi My name is Oluwadamifogore, some call me Engineer-D because I am a badass engineer, if you find it difficult to pronounce my name just call me Davi', 'offsets_in_document': [{'start': 14, 'end': 29}], 'offsets_in_context': [{'start': 14, 'end': 29}], 'document_id': '6fe28b9d1e5275f19d85683611fd726d', 'meta': {}}>]}"
            ]
          },
          "metadata": {},
          "execution_count": 32
        }
      ]
    },
    {
      "cell_type": "code",
      "source": [
        "new_reader.predict_on_texts(\"What are you called?\",[context])"
      ],
      "metadata": {
        "colab": {
          "base_uri": "https://localhost:8080/"
        },
        "id": "06nP5CBwiRDw",
        "outputId": "2b1b5275-615f-4503-dc6a-c0c4f97b54f5"
      },
      "execution_count": null,
      "outputs": [
        {
          "output_type": "stream",
          "name": "stderr",
          "text": [
            "Inferencing Samples:   0%|          | 0/1 [00:00<?, ? Batches/s]WARNING:haystack.modeling.model.language_model:'segment_ids' is not None, but DistilBert does not use them. They will be ignored.\n",
            "Inferencing Samples: 100%|██████████| 1/1 [00:00<00:00, 48.00 Batches/s]\n"
          ]
        },
        {
          "output_type": "execute_result",
          "data": {
            "text/plain": [
              "{'query': 'What are you called?',\n",
              " 'no_ans_gap': -0.8229160308837891,\n",
              " 'answers': [<Answer {'answer': 'David', 'type': 'extractive', 'score': 0.30875808000564575, 'context': 'i My name is Oluwadamifogore, some call me Engineer-D because I am a badass engineer, if you find it difficult to pronounce my name just call me David', 'offsets_in_document': [{'start': 146, 'end': 151}], 'offsets_in_context': [{'start': 145, 'end': 150}], 'document_id': '6fe28b9d1e5275f19d85683611fd726d', 'meta': {}}>]}"
            ]
          },
          "metadata": {},
          "execution_count": 33
        }
      ]
    },
    {
      "cell_type": "code",
      "source": [
        "new_reader.predict_on_texts(\"Who are you?\",[context])"
      ],
      "metadata": {
        "colab": {
          "base_uri": "https://localhost:8080/"
        },
        "id": "9cZLjhAZihEv",
        "outputId": "b1da5fcc-32f4-4ea0-b039-ae0ebf5d41e9"
      },
      "execution_count": null,
      "outputs": [
        {
          "output_type": "stream",
          "name": "stderr",
          "text": [
            "Inferencing Samples:   0%|          | 0/1 [00:00<?, ? Batches/s]WARNING:haystack.modeling.model.language_model:'segment_ids' is not None, but DistilBert does not use them. They will be ignored.\n",
            "Inferencing Samples: 100%|██████████| 1/1 [00:00<00:00, 40.62 Batches/s]\n"
          ]
        },
        {
          "output_type": "execute_result",
          "data": {
            "text/plain": [
              "{'query': 'Who are you?',\n",
              " 'no_ans_gap': -0.3489704132080078,\n",
              " 'answers': [<Answer {'answer': 'David', 'type': 'extractive', 'score': 0.4053061008453369, 'context': 'i My name is Oluwadamifogore, some call me Engineer-D because I am a badass engineer, if you find it difficult to pronounce my name just call me David', 'offsets_in_document': [{'start': 146, 'end': 151}], 'offsets_in_context': [{'start': 145, 'end': 150}], 'document_id': '6fe28b9d1e5275f19d85683611fd726d', 'meta': {}}>]}"
            ]
          },
          "metadata": {},
          "execution_count": 34
        }
      ]
    },
    {
      "cell_type": "code",
      "source": [
        "ans = new_reader.predict_on_texts(\"What is your name?\",[context])"
      ],
      "metadata": {
        "colab": {
          "base_uri": "https://localhost:8080/"
        },
        "id": "k60Bi25oilK3",
        "outputId": "f7e06571-3942-45fb-f4a9-b02641fad7e8"
      },
      "execution_count": null,
      "outputs": [
        {
          "output_type": "stream",
          "name": "stderr",
          "text": [
            "Inferencing Samples:   0%|          | 0/1 [00:00<?, ? Batches/s]WARNING:haystack.modeling.model.language_model:'segment_ids' is not None, but DistilBert does not use them. They will be ignored.\n",
            "Inferencing Samples: 100%|██████████| 1/1 [00:00<00:00, 49.57 Batches/s]\n"
          ]
        }
      ]
    },
    {
      "cell_type": "code",
      "source": [
        "type(ans)"
      ],
      "metadata": {
        "colab": {
          "base_uri": "https://localhost:8080/"
        },
        "id": "iY2IYymeivCS",
        "outputId": "59421e7c-e57b-4662-dd14-d18244205961"
      },
      "execution_count": null,
      "outputs": [
        {
          "output_type": "execute_result",
          "data": {
            "text/plain": [
              "dict"
            ]
          },
          "metadata": {},
          "execution_count": 40
        }
      ]
    },
    {
      "cell_type": "code",
      "source": [
        "ans"
      ],
      "metadata": {
        "colab": {
          "base_uri": "https://localhost:8080/"
        },
        "id": "z3yxTbAfiwWM",
        "outputId": "ff75fa8e-7024-4fd4-c69f-3a8603fb033b"
      },
      "execution_count": null,
      "outputs": [
        {
          "output_type": "execute_result",
          "data": {
            "text/plain": [
              "{'query': 'What is your name?',\n",
              " 'no_ans_gap': 3.1716909408569336,\n",
              " 'answers': [<Answer {'answer': 'Oluwadamifogore', 'type': 'extractive', 'score': 0.6008038520812988, 'context': 'Hi My name is Oluwadamifogore, some call me Engineer-D because I am a badass engineer, if you find it difficult to pronounce my name just call me Davi', 'offsets_in_document': [{'start': 14, 'end': 29}], 'offsets_in_context': [{'start': 14, 'end': 29}], 'document_id': '6fe28b9d1e5275f19d85683611fd726d', 'meta': {}}>]}"
            ]
          },
          "metadata": {},
          "execution_count": 41
        }
      ]
    },
    {
      "cell_type": "code",
      "source": [],
      "metadata": {
        "id": "QtILv9LqwjU0"
      },
      "execution_count": null,
      "outputs": []
    }
  ]
}